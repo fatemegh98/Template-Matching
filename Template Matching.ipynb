{
 "cells": [
  {
   "cell_type": "code",
   "execution_count": 1,
   "metadata": {},
   "outputs": [],
   "source": [
    "import numpy as np\n",
    "import matplotlib.pyplot as plt\n",
    "import PIL\n",
    "from PIL import Image\n",
    "from scipy import misc\n",
    "import pandas as pd\n",
    "import cv2"
   ]
  },
  {
   "cell_type": "markdown",
   "metadata": {},
   "source": [
    "# part A"
   ]
  },
  {
   "cell_type": "code",
   "execution_count": 115,
   "metadata": {},
   "outputs": [],
   "source": [
    "img_path = 'wheres_wally_3.jpg'\n",
    "csv_path = 'colors.csv'\n",
    "\n",
    "index=[\"color\",\"color_name\",\"hex\",\"R\",\"G\",\"B\"]\n",
    "csv = pd.read_csv(csv_path, names=index, header=None)\n",
    "\n",
    "img = cv2.imread(img_path)\n",
    "\n",
    "clicked = False\n",
    "xpos = 0\n",
    "ypos = 0\n",
    "b=g=r = 0\n",
    "\n",
    "def getColorName(R,G,B):\n",
    "    minimum = 10000\n",
    "    for i in range(len(csv)):\n",
    "        d = abs(R- int(csv.loc[i,\"R\"])) + abs(G- int(csv.loc[i,\"G\"]))+ abs(B- int(csv.loc[i,\"B\"]))\n",
    "        if(d<=minimum):\n",
    "            minimum = d\n",
    "            cname = csv.loc[i,\"color_name\"]\n",
    "    return cname\n",
    "\n",
    "def draw_function(event, x,y,flags,param):\n",
    "    if event == cv2.EVENT_LBUTTONDBLCLK:\n",
    "        global b,g,r,xpos,ypos, clicked\n",
    "        clicked = True\n",
    "        xpos = x\n",
    "        ypos = y\n",
    "        b,g,r = img[y,x]\n",
    "        b = int(b)\n",
    "        g = int(g)\n",
    "        r = int(r)\n",
    "\n",
    "cv2.namedWindow('image')\n",
    "cv2.setMouseCallback('image',draw_function)\n",
    "\n",
    "while True:\n",
    "    cv2.imshow(\"image\",img)\n",
    "    if clicked:\n",
    "        cv2.rectangle(img,(20,20), (750,60), (b,g,r), -1)\n",
    "        text = getColorName(r,g,b) + ' R='+ str(r) + ' G='+ str(g) + ' B='+ str(b)\n",
    "        cv2.putText(img, text,(50,50),2,0.8,(255,255,255),2,cv2.LINE_AA)\n",
    "        if(r+g+b>=600):\n",
    "            cv2.putText(img, text,(50,50),2,0.8,(0,0,0),2,cv2.LINE_AA)\n",
    "        clicked=False\n",
    "    if cv2.waitKey(20) & 0xFF ==27:\n",
    "        break\n",
    "\n",
    "cv2.destroyAllWindows()"
   ]
  },
  {
   "cell_type": "markdown",
   "metadata": {},
   "source": [
    "# part B"
   ]
  },
  {
   "cell_type": "code",
   "execution_count": 56,
   "metadata": {},
   "outputs": [
    {
     "name": "stderr",
     "output_type": "stream",
     "text": [
      "100%|█████████████████████████████████████████████████████████████████████████████| 1700/1700 [00:06<00:00, 278.51it/s]\n"
     ]
    }
   ],
   "source": [
    "from tqdm import tqdm\n",
    "img = Image.open(\"wheres_wally_1.jpg\")\n",
    "\n",
    "width = img.size[0] \n",
    "height = img.size[1] \n",
    "\n",
    "copy_img = Image.new(\"RGB\", (width, height), (0, 0, 0))\n",
    "\n",
    "pixel_list = []\n",
    "\n",
    "for i in tqdm(range(0,width)):\n",
    "    for j in range(0,height):\n",
    "        data = img.getpixel((i,j))   \n",
    "        if (data[0]>=200 and data[0]<=255 and data[1]>=50 and data[1]<=90 and data[2]>=50 and data[2]<=110)  :\n",
    "            for t in range(-50,50):\n",
    "                for z in range(-50,50):\n",
    "                    new_i = i+t\n",
    "                    new_j = j+z   \n",
    "                    if new_i >=0 and new_i< width and new_j>=0 and new_j< height:\n",
    "                        pixel_list.append([new_i,new_j])\n",
    "                "
   ]
  },
  {
   "cell_type": "code",
   "execution_count": 57,
   "metadata": {},
   "outputs": [],
   "source": [
    "for el in pixel_list:\n",
    "    i_ = el[0]\n",
    "    j_ = el[1]\n",
    "    copy_img.putpixel((i_,j_),img.getpixel((i_,j_)))\n",
    "    \n",
    "copy_img.save('where_is_wally_mask_1.png')"
   ]
  },
  {
   "cell_type": "markdown",
   "metadata": {},
   "source": [
    "# part C & D"
   ]
  },
  {
   "cell_type": "code",
   "execution_count": 2,
   "metadata": {
    "scrolled": true
   },
   "outputs": [],
   "source": [
    "import cv2 as cv\n",
    "def downscale_img(img, proportion):\n",
    "    height, width = img.shape[0],img.shape[1]\n",
    "    scaled_height = np.int(np.ceil(height*proportion))\n",
    "    scaled_width = np.int(np.ceil(width*proportion))\n",
    "    scaled_img = np.zeros((scaled_height, scaled_width, 3), dtype='uint8')\n",
    "    for x in range(scaled_width):\n",
    "        for y in range(scaled_height):\n",
    "            for c in range(3):\n",
    "                scaled_img[y,x,c] = np.mean(img[2*y:2*y+2,2*x:2*x+2,c]).astype('uint8')\n",
    "    return scaled_img\n",
    "\n",
    "def  pixel_diff(channel1,channel2):\n",
    "    channel1_b = channel1[:,:,0]\n",
    "    channel1_g = channel1[:,:,1]\n",
    "    channel1_r = channel1[:,:,2]\n",
    "    \n",
    "    channel2_b = channel2[:,:,0]\n",
    "    channel2_g = channel2[:,:,1]\n",
    "    channel2_r = channel2[:,:,2]\n",
    "    \n",
    "    diff_b = np.abs(channel1_b-channel2_b)\n",
    "    diff_g = np.abs(channel1_g-channel2_g)\n",
    "    diff_r = np.abs(channel1_r-channel2_r)\n",
    "    \n",
    "    return np.sum(diff_b)+np.sum(diff_g)+np.sum(diff_r)\n",
    "\n",
    "def search(search_image, template, metric, return_score=False):\n",
    "    search_height, search_width = search_image.shape[:2]\n",
    "    template_height, template_width = template.shape[:2]\n",
    "    target_location = np.arange(2)\n",
    "    max_score = np.nan\n",
    "    for x in range(search_width-template_width):\n",
    "        for y in range(search_height-template_height):\n",
    "            candidate = search_image[y:y+template_height, x:x+template_width]\n",
    "            score = metric(candidate, template)\n",
    "            if np.isnan(max_score) or score>max_score:\n",
    "                max_score = score\n",
    "                target_location = (y,x)\n",
    "    return (target_location, max_score) if return_score else target_location\n",
    "\n",
    "def point_result(search_image, template, target_location, border_prop):\n",
    "    sie = search_image.copy()\n",
    "    template_height, template_width = template.shape[:2]\n",
    "    yt, xt = target_location\n",
    "    cv.rectangle(sie, (xt, yt), (xt+template_width, yt+template_height, ), (255,255,255), border_prop)\n",
    "    return sie"
   ]
  },
  {
   "cell_type": "code",
   "execution_count": 70,
   "metadata": {},
   "outputs": [],
   "source": [
    "wally1 = cv.imread('wally_1.jpg')\n",
    "wally1 = cv.cvtColor(wally1, cv.COLOR_RGB2BGR)\n"
   ]
  },
  {
   "cell_type": "code",
   "execution_count": 71,
   "metadata": {},
   "outputs": [],
   "source": [
    "wheres_wally_1 = cv.imread('where_is_wally_mask_1.png')\n",
    "wheres_wally_1 = cv.cvtColor(wheres_wally_1, cv.COLOR_RGB2BGR)"
   ]
  },
  {
   "cell_type": "code",
   "execution_count": 72,
   "metadata": {},
   "outputs": [],
   "source": [
    "wheres_wally_1_scaled = downscale_img(downscale_img(wheres_wally_1, 0.5), 0.5)\n",
    "wally1s = downscale_img(downscale_img(wally1, 0.5), 0.5)"
   ]
  },
  {
   "cell_type": "code",
   "execution_count": 73,
   "metadata": {},
   "outputs": [
    {
     "data": {
      "image/png": "[encoded data removed]",
      "text/plain": [
       "<PIL.Image.Image image mode=RGB size=425x585 at 0x19CEBD03588>"
      ]
     },
     "execution_count": 73,
     "metadata": {},
     "output_type": "execute_result"
    }
   ],
   "source": [
    "ht, wt = wally1s.shape[:2]\n",
    "(yt, xt) = search(wheres_wally_1_scaled, wally1s, pixel_diff)\n",
    "Image.fromarray(point_result(wheres_wally_1_scaled, wally1s, (yt, xt), 2))"
   ]
  },
  {
   "cell_type": "code",
   "execution_count": null,
   "metadata": {},
   "outputs": [],
   "source": []
  }
 ],
 "metadata": {
  "kernelspec": {
   "display_name": "Python 3",
   "language": "python",
   "name": "python3"
  },
  "language_info": {
   "codemirror_mode": {
    "name": "ipython",
    "version": 3
   },
   "file_extension": ".py",
   "mimetype": "text/x-python",
   "name": "python",
   "nbconvert_exporter": "python",
   "pygments_lexer": "ipython3",
   "version": "3.7.3"
  }
 },
 "nbformat": 4,
 "nbformat_minor": 2
}
